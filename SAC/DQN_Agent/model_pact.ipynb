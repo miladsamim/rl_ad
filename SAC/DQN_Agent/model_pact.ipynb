{
 "cells": [
  {
   "cell_type": "code",
   "execution_count": 193,
   "metadata": {},
   "outputs": [
    {
     "name": "stdout",
     "output_type": "stream",
     "text": [
      "The autoreload extension is already loaded. To reload it, use:\n",
      "  %reload_ext autoreload\n"
     ]
    }
   ],
   "source": [
    "import torch\n",
    "import torch.nn as nn\n",
    "import gym\n",
    "# from torchvision.transforms import Grayscale\n",
    "from parameters import dotdict, MemoryBufferSimple, MemoryBufferSeparated, SensorModel, DriveDQN, model_params, PDriveDQN\n",
    "from agent_torch_pact import DQN_Agent\n",
    "from parameters.setup import setup_dict_trans\n",
    "import environment as env_wrapper\n",
    "from collections import deque\n",
    "import matplotlib.pyplot as plt    \n",
    "import cv2\n",
    "import random\n",
    "import numpy as np\n",
    "from importlib.metadata import version\n",
    "USE_V2 = '0.21.0' < version('gym') \n",
    "%load_ext autoreload\n",
    "%autoreload 2"
   ]
  },
  {
   "cell_type": "code",
   "execution_count": 2,
   "metadata": {},
   "outputs": [],
   "source": [
    "args = model_params\n",
    "args.device = 'cpu'"
   ]
  },
  {
   "cell_type": "code",
   "execution_count": 3,
   "metadata": {},
   "outputs": [],
   "source": [
    "def compute_steering_speed_gyro_abs(a):\n",
    "    right_steering = a[6, 36:46].mean()/255\n",
    "    left_steering = a[6, 26:36].mean()/255\n",
    "    steering = (right_steering - left_steering + 1.0)/2\n",
    "    \n",
    "    left_gyro = a[6, 46:60].mean()/255\n",
    "    right_gyro = a[6, 60:76].mean()/255\n",
    "    gyro = (right_gyro - left_gyro + 1.0)/2\n",
    "    \n",
    "    speed = a[:, 0][:-2].mean()/255\n",
    "    abs1 = a[:, 6][:-2].mean()/255\n",
    "    abs2 = a[:, 8][:-2].mean()/255\n",
    "    abs3 = a[:, 10][:-2].mean()/255\n",
    "    abs4 = a[:, 12][:-2].mean()/255\n",
    "    \n",
    "    return [steering, speed, gyro, abs1, abs2, abs3, abs4]\n",
    "\n",
    "def transform(s):\n",
    "#     cv2.imshow('original', s)\n",
    "#     cv2.waitKey(1)\n",
    "\n",
    "    # crop_img = img[200:400, 100:300] # Crop from x, y, w, h -> 100, 200, 300, 400\n",
    "    # NOTE: its img[y: y + h, x: x + w] and *not* img[x: x + w, y: y + h]\n",
    "    # bottom_black_bar is the section of the screen with steering, speed, abs and gyro information.\n",
    "    # we crop off the digits on the right as they are illigible, even for ml.\n",
    "    # since color is irrelavent, we grayscale it.\n",
    "    bottom_black_bar = s[84:, 12:]\n",
    "    img = cv2.cvtColor(bottom_black_bar, cv2.COLOR_RGB2GRAY)\n",
    "    bottom_black_bar_bw = cv2.threshold(img, 1, 255, cv2.THRESH_BINARY)[1]\n",
    "    bottom_black_bar_bw = cv2.resize(bottom_black_bar_bw, (84, 12), interpolation = cv2.INTER_NEAREST)\n",
    "    \n",
    "    # upper_field = observation[:84, :96] # this is the section of the screen that contains the track.\n",
    "    upper_field = s[:84, 6:90] # we crop side of screen as they carry little information\n",
    "    img = cv2.cvtColor(upper_field, cv2.COLOR_RGB2GRAY)\n",
    "    upper_field_bw = cv2.threshold(img, 120, 255, cv2.THRESH_BINARY)[1]\n",
    "    upper_field_bw = cv2.resize(upper_field_bw, (10, 10), interpolation = cv2.INTER_NEAREST) # re scaled to 7x7 pixels\n",
    "#     cv2.imshow('video', upper_field_bw)\n",
    "#     cv2.waitKey(1)\n",
    "    upper_field_bw = upper_field_bw.astype('float')/255\n",
    "        \n",
    "    car_field = s[66:78, 43:53]\n",
    "    img = cv2.cvtColor(car_field, cv2.COLOR_RGB2GRAY)\n",
    "    car_field_bw = cv2.threshold(img, 80, 255, cv2.THRESH_BINARY)[1]\n",
    "\n",
    "#     print(car_field_bw[:, 3].mean()/255, car_field_bw[:, 4].mean()/255, car_field_bw[:, 5].mean()/255, car_field_bw[:, 6].mean()/255)\n",
    "    car_field_t = [car_field_bw[:, 3].mean()/255, car_field_bw[:, 4].mean()/255, car_field_bw[:, 5].mean()/255, car_field_bw[:, 6].mean()/255]\n",
    "    \n",
    "#     rotated_image = rotateImage(car_field_bw, 45)\n",
    "#     cv2.imshow('video rotated', rotated_image)\n",
    "#     cv2.waitKey(1)\n",
    "\n",
    "    return bottom_black_bar_bw, upper_field_bw, car_field_t"
   ]
  },
  {
   "cell_type": "code",
   "execution_count": 4,
   "metadata": {},
   "outputs": [],
   "source": [
    "if USE_V2:\n",
    "    env = gym.make('CarRacing-v2', new_step_api=True)\n",
    "else: \n",
    "    env = gym.make('CarRacing-v0')\n",
    "state_img = env.reset()"
   ]
  },
  {
   "cell_type": "code",
   "execution_count": 163,
   "metadata": {},
   "outputs": [],
   "source": [
    "# buffer = MemoryBufferSimple(args.n_frames, args.buffer_sz)\n",
    "buffer = MemoryBufferSeparated(args.n_frames, 400)\n",
    "sampler = torch.utils.data.DataLoader(buffer, batch_size=32, shuffle=True, drop_last=False)"
   ]
  },
  {
   "cell_type": "code",
   "execution_count": 164,
   "metadata": {},
   "outputs": [
    {
     "data": {
      "text/plain": [
       "((96, 96, 3), -0.10000000000000009, False, {})"
      ]
     },
     "execution_count": 164,
     "metadata": {},
     "output_type": "execute_result"
    }
   ],
   "source": [
    "state = {'img': state_img,\n",
    "             'steering': 0,\n",
    "             'speed': 0,\n",
    "             'gyro': 0,\n",
    "             'abs1': 0,\n",
    "             'abs2': 0,\n",
    "             'abs3': 0,\n",
    "             'abs4': 0,\n",
    "             'action_idx': 0}\n",
    "buffer.add_experience(state, 0, 0, False, new_episode=True) # too add new episode\n",
    "state_frame_stack = deque(maxlen=args.n_frames)\n",
    "\n",
    "for i in range(100):\n",
    "    if USE_V2:\n",
    "        state_img, reward, terminated, truncated, info = env.step((0.1,1,0))\n",
    "        done = terminated or truncated \n",
    "    else:\n",
    "        state_img, reward, done, info = env.step((0.1,1,0))\n",
    "    state_img = state_img/255.0 \n",
    "    data_board = state_img[84:, 12:]\n",
    "    steering, speed, gyro, abs1, abs2, abs3, abs4 = compute_steering_speed_gyro_abs(data_board)\n",
    "    action_idx = random.randint(0, args.act_dim-1)\n",
    "    state = {'img': state_img,\n",
    "             'steering': steering,\n",
    "             'speed': speed,\n",
    "             'gyro': gyro,\n",
    "             'abs1': abs1,\n",
    "             'abs2': abs2,\n",
    "             'abs3': abs3,\n",
    "             'abs4': abs4,\n",
    "             'action_idx': action_idx}\n",
    "    state_frame_stack.append(state)\n",
    "    buffer.add_experience(state, action_idx, reward, done)\n",
    "\n",
    "state_img.shape, reward, done, info"
   ]
  },
  {
   "cell_type": "code",
   "execution_count": 7,
   "metadata": {},
   "outputs": [
    {
     "data": {
      "text/plain": [
       "deque([101])"
      ]
     },
     "execution_count": 7,
     "metadata": {},
     "output_type": "execute_result"
    }
   ],
   "source": [
    "buffer.ep_lengths"
   ]
  },
  {
   "cell_type": "code",
   "execution_count": 185,
   "metadata": {},
   "outputs": [],
   "source": [
    "sensor_net = SensorModel(args.in_channels, args.h_size,\n",
    "                         p=args.c_dropout, image_shape=args.img_shape)\n",
    "states, actions, rewards, dones = next(iter(sampler))"
   ]
  },
  {
   "cell_type": "code",
   "execution_count": 186,
   "metadata": {},
   "outputs": [
    {
     "name": "stdout",
     "output_type": "stream",
     "text": [
      "[torch.Size([32, 15, 3, 96, 96]), torch.Size([32, 15, 1]), torch.Size([32, 15, 1]), torch.Size([32, 15, 1]), torch.Size([32, 15, 1]), torch.Size([32, 15, 1]), torch.Size([32, 15, 1]), torch.Size([32, 15, 1]), torch.Size([32, 15])]\n"
     ]
    }
   ],
   "source": [
    "print(list(map(lambda x:x.shape, states)))"
   ]
  },
  {
   "cell_type": "code",
   "execution_count": 10,
   "metadata": {},
   "outputs": [
    {
     "data": {
      "image/png": "[encoded data removed]",
      "text/plain": [
       "<Figure size 2000x2000 with 16 Axes>"
      ]
     },
     "metadata": {},
     "output_type": "display_data"
    }
   ],
   "source": [
    "nrows, ncols = 4,4\n",
    "fig, axs = plt.subplots(nrows=nrows, ncols=ncols, figsize=(20,20))\n",
    "batch_idx = 10\n",
    "for i in range(args.n_frames):\n",
    "    r = i // nrows\n",
    "    c = i % ncols\n",
    "    axs[r][c].imshow(states[0][batch_idx,i,:,:].squeeze(0).permute(1,2,0))"
   ]
  },
  {
   "cell_type": "code",
   "execution_count": 132,
   "metadata": {},
   "outputs": [
    {
     "data": {
      "text/plain": [
       "(torch.Size([17, 32, 3, 96, 96]),\n",
       " torch.Size([7, 17, 32, 1]),\n",
       " torch.Size([17, 32]),\n",
       " torch.Size([32, 1]),\n",
       " torch.Size([32, 1]),\n",
       " torch.Size([32, 1]),\n",
       " torch.Size([32, 3, 96, 96]),\n",
       " torch.Size([7, 32, 1]))"
      ]
     },
     "execution_count": 132,
     "metadata": {},
     "output_type": "execute_result"
    }
   ],
   "source": [
    "frame_idx = 0 \n",
    "X_img = states[0].transpose(0,1).to(args.device)\n",
    "X_sensor = torch.stack(states[1:-1], axis=0).permute(0,2,1,3).to(args.device)\n",
    "X_act = states[-1].transpose(0,1).to(args.device)\n",
    "actions = actions.unsqueeze(-1).to(args.device)\n",
    "rewards = rewards.unsqueeze(1).to(args.device)\n",
    "dones = dones.unsqueeze(1).to(args.device)\n",
    "X_img.shape, X_sensor.shape, X_act.shape, actions.shape, rewards.shape, dones.shape, X_img[frame_idx].shape, X_sensor[:,frame_idx].shape"
   ]
  },
  {
   "cell_type": "code",
   "execution_count": 12,
   "metadata": {},
   "outputs": [],
   "source": [
    "sensor_hs = sensor_net(X_img[frame_idx], X_sensor[:,frame_idx])\n",
    "X_img_h, X_steering_h, X_speed_h, X_gyro_h, X_abs1_h, X_abs2_h, X_abs3_h, X_abs4_h = sensor_net(X_img[frame_idx], X_sensor[:,frame_idx])"
   ]
  },
  {
   "cell_type": "code",
   "execution_count": 13,
   "metadata": {},
   "outputs": [
    {
     "data": {
      "text/plain": [
       "(torch.Size([32, 128]),\n",
       " torch.Size([32, 128]),\n",
       " torch.Size([32, 128]),\n",
       " torch.Size([32, 128]),\n",
       " torch.Size([32, 128]),\n",
       " torch.Size([32, 128]),\n",
       " torch.Size([32, 128]),\n",
       " torch.Size([32, 128]))"
      ]
     },
     "execution_count": 13,
     "metadata": {},
     "output_type": "execute_result"
    }
   ],
   "source": [
    "X_img_h.shape, X_steering_h.shape, X_speed_h.shape, X_gyro_h.shape, X_abs1_h.shape, X_abs2_h.shape, X_abs3_h.shape, X_abs4_h.shape"
   ]
  },
  {
   "cell_type": "code",
   "execution_count": 14,
   "metadata": {},
   "outputs": [
    {
     "data": {
      "text/plain": [
       "torch.Size([8, 32, 128])"
      ]
     },
     "execution_count": 14,
     "metadata": {},
     "output_type": "execute_result"
    }
   ],
   "source": [
    "torch.stack(sensor_hs, axis=0).shape"
   ]
  },
  {
   "cell_type": "markdown",
   "metadata": {},
   "source": [
    "# Testing Agent Setup"
   ]
  },
  {
   "cell_type": "code",
   "execution_count": 194,
   "metadata": {},
   "outputs": [],
   "source": [
    "setup_dict_trans['agent']['use_all_timesteps'] = True\n",
    "setup_dict_trans['agent']['architecture'] = PDriveDQN\n",
    "environment = env_wrapper.CarRacing(**setup_dict_trans['car racing'])\n",
    "control = DQN_Agent(environment=environment, **setup_dict_trans['agent'])"
   ]
  },
  {
   "cell_type": "code",
   "execution_count": 241,
   "metadata": {},
   "outputs": [
    {
     "data": {
      "text/plain": [
       "1"
      ]
     },
     "execution_count": 241,
     "metadata": {},
     "output_type": "execute_result"
    }
   ],
   "source": [
    "control.get_action(state_frame_stack, 0)"
   ]
  },
  {
   "cell_type": "code",
   "execution_count": 242,
   "metadata": {},
   "outputs": [],
   "source": [
    "control.replay_memory = buffer\n",
    "control.replay_memory_sampler = torch.utils.data.DataLoader(control.replay_memory, batch_size=32, shuffle=True)\n",
    "buffer_ = control.replay_memory "
   ]
  },
  {
   "cell_type": "code",
   "execution_count": 243,
   "metadata": {},
   "outputs": [
    {
     "data": {
      "text/plain": [
       "Embedding(15, 256)"
      ]
     },
     "execution_count": 243,
     "metadata": {},
     "output_type": "execute_result"
    }
   ],
   "source": [
    "control.pact_model.model.pos_embd_local"
   ]
  },
  {
   "cell_type": "code",
   "execution_count": 244,
   "metadata": {},
   "outputs": [
    {
     "data": {
      "text/plain": [
       "torch.Size([14, 32, 5])"
      ]
     },
     "execution_count": 244,
     "metadata": {},
     "output_type": "execute_result"
    }
   ],
   "source": [
    "control.dqn(torch.rand(14,32,256)).shape"
   ]
  },
  {
   "cell_type": "code",
   "execution_count": 245,
   "metadata": {},
   "outputs": [
    {
     "data": {
      "text/plain": [
       "0.02200389839708805"
      ]
     },
     "execution_count": 245,
     "metadata": {},
     "output_type": "execute_result"
    }
   ],
   "source": [
    "control.experience_replay_all_steps()"
   ]
  },
  {
   "cell_type": "code",
   "execution_count": 23,
   "metadata": {},
   "outputs": [
    {
     "data": {
      "text/plain": [
       "4860704"
      ]
     },
     "execution_count": 23,
     "metadata": {},
     "output_type": "execute_result"
    }
   ],
   "source": [
    "sum((p.numel() for p in control.dqn.sensor_net.cnn.parameters()))"
   ]
  },
  {
   "cell_type": "code",
   "execution_count": 19,
   "metadata": {},
   "outputs": [
    {
     "data": {
      "text/plain": [
       "(torch.Size([17, 32, 3, 96, 96]),\n",
       " torch.Size([7, 17, 32, 1, 1]),\n",
       " torch.Size([17, 32]),\n",
       " torch.Size([32, 1, 1, 1]),\n",
       " torch.Size([32, 1, 1, 1]),\n",
       " torch.Size([32, 1, 1, 1]),\n",
       " torch.Size([16, 32, 3, 96, 96]),\n",
       " torch.Size([16, 32, 3, 96, 96]))"
      ]
     },
     "execution_count": 19,
     "metadata": {},
     "output_type": "execute_result"
    }
   ],
   "source": [
    "X_img = states[0].transpose(0,1).to(args.device)\n",
    "X_sensor = torch.stack(states[1:-1], axis=0).transpose(1,2).unsqueeze(-1).to(args.device)\n",
    "X_act = states[-1].transpose(0,1).to(args.device)\n",
    "cur_state = (X_img[:-1], X_sensor[:,:-1], X_act[:-1])\n",
    "next_state = (X_img[1:], X_sensor[:, 1:], X_act[1:])\n",
    "actions = actions.unsqueeze(-1).to(args.device)\n",
    "rewards = rewards.unsqueeze(1).to(args.device)\n",
    "dones = dones.unsqueeze(1).to(args.device)\n",
    "X_img.shape, X_sensor.shape, X_act.shape, actions.shape, rewards.shape, dones.shape, cur_state[0].shape, next_state[0].shape"
   ]
  },
  {
   "cell_type": "code",
   "execution_count": 20,
   "metadata": {},
   "outputs": [
    {
     "data": {
      "text/plain": [
       "<matplotlib.image.AxesImage at 0x24a5c731e80>"
      ]
     },
     "execution_count": 20,
     "metadata": {},
     "output_type": "execute_result"
    },
    {
     "data": {
      "image/png": "[encoded data removed]",
      "text/plain": [
       "<Figure size 640x480 with 1 Axes>"
      ]
     },
     "metadata": {},
     "output_type": "display_data"
    }
   ],
   "source": [
    "plt.imshow(X_img[0,0].permute(1,2,0).numpy())"
   ]
  },
  {
   "cell_type": "code",
   "execution_count": 21,
   "metadata": {},
   "outputs": [],
   "source": [
    "def _generate_square_subsequent_mask(self, sz):\n",
    "    mask = (torch.triu(torch.ones(sz, sz)) == 1).transpose(0, 1)\n",
    "    mask = mask.float()\n",
    "    mask = mask.masked_fill(mask == 0, float('-inf')).masked_fill(mask == 1, float(0.0))\n",
    "    return mask"
   ]
  },
  {
   "attachments": {},
   "cell_type": "markdown",
   "metadata": {},
   "source": [
    "# Causal"
   ]
  },
  {
   "cell_type": "code",
   "execution_count": 22,
   "metadata": {},
   "outputs": [],
   "source": [
    "t = args.n_frames = 14\n",
    "X_states = torch.rand(t,32, args.h_size)\n",
    "actions_idx = torch.arange(4).repeat(t,32//4) # discrete actions \n",
    "actions_emb = nn.Embedding(5, args.h_size)\n",
    "actions_d_h = actions_emb(actions_idx)\n",
    "actions_r_steer = torch.rand(t,32,1) # real valued action measures mlp scaled\n",
    "actions_r_throttle = torch.rand(t,32,1)\n",
    "actions_r_brake = torch.rand(t,32,1)\n",
    "action_tokenizer = nn.Sequential(nn.Linear(1, 32),\n",
    "                                 nn.ReLU(),\n",
    "                                 nn.Linear(32, 64),\n",
    "                                 nn.ReLU(),\n",
    "                                 nn.Linear(64, args.h_size))\n",
    "merge_actions = nn.Sequential(nn.Conv1d(in_channels=3, out_channels=9, kernel_size=9, padding='same'),\n",
    "                              nn.ReLU(),\n",
    "                              nn.Conv1d(in_channels=9, out_channels=1, kernel_size=9, padding='same'))"
   ]
  },
  {
   "cell_type": "code",
   "execution_count": 23,
   "metadata": {},
   "outputs": [
    {
     "data": {
      "text/plain": [
       "(torch.Size([14, 32, 128]), torch.Size([14, 32, 128]))"
      ]
     },
     "execution_count": 23,
     "metadata": {},
     "output_type": "execute_result"
    }
   ],
   "source": [
    "actions_h_steer = action_tokenizer(actions_r_steer)\n",
    "actions_h_throttle = action_tokenizer(actions_r_throttle)\n",
    "actions_h_brake = action_tokenizer(actions_r_brake)\n",
    "actions_r_h = torch.stack([actions_h_steer, actions_h_throttle, actions_h_brake], dim=2)\n",
    "actions_r_h = merge_actions(actions_r_h.view(-1,3,128)).view(t,32,128)\n",
    "actions_h = actions_r_h + actions_d_h\n",
    "X_states.shape, actions_h.shape"
   ]
  },
  {
   "cell_type": "code",
   "execution_count": 53,
   "metadata": {},
   "outputs": [],
   "source": [
    "t = args.n_frames\n",
    "pos_embd_local = nn.Embedding(t, args.h_size)\n",
    "pos_embd_global = nn.Embedding(2*t, args.h_size)"
   ]
  },
  {
   "cell_type": "code",
   "execution_count": 55,
   "metadata": {},
   "outputs": [],
   "source": [
    "pos_local = torch.arange(t, dtype=torch.long, device=args.device).unsqueeze(-1)\n",
    "pos_global = torch.arange(2*t, dtype=torch.long, device=args.device).unsqueeze(-1)"
   ]
  },
  {
   "cell_type": "code",
   "execution_count": 56,
   "metadata": {},
   "outputs": [
    {
     "data": {
      "text/plain": [
       "(torch.Size([28, 1, 128]), torch.Size([28, 1, 128]))"
      ]
     },
     "execution_count": 56,
     "metadata": {},
     "output_type": "execute_result"
    }
   ],
   "source": [
    "pos_local_h = pos_embd_local(pos_local).repeat_interleave(2, dim=0)\n",
    "pos_global_h = pos_embd_global(pos_global)\n",
    "pos_local_h.shape, pos_global_h.shape"
   ]
  },
  {
   "cell_type": "code",
   "execution_count": 57,
   "metadata": {},
   "outputs": [],
   "source": [
    "state_act_seq = torch.stack([X_states, actions_h], dim=1).reshape(-1, 32, args.h_size)\n",
    "assert (state_act_seq[::2,:,:] == X_states).all() and (state_act_seq[1::2,:,:] == actions_h).all()\n",
    "state_act_seq = state_act_seq + pos_local_h + pos_global_h"
   ]
  },
  {
   "cell_type": "code",
   "execution_count": 58,
   "metadata": {},
   "outputs": [],
   "source": [
    "d_size = args.h_size\n",
    "encoder_layer = nn.TransformerEncoderLayer(d_model=d_size, nhead=args.n_head, \n",
    "                                           dim_feedforward=4*d_size, dropout=args.t_dropout, norm_first=args.norm_first)\n",
    "gpt = nn.TransformerEncoder(encoder_layer, num_layers=args.n_decs)\n",
    "mask = _generate_square_subsequent_mask(None,t*2).to(args.device)\n",
    "state_head = nn.Sequential(nn.Linear(2*args.h_size, args.h_size))"
   ]
  },
  {
   "cell_type": "code",
   "execution_count": 59,
   "metadata": {},
   "outputs": [
    {
     "data": {
      "text/plain": [
       "torch.Size([32, 28, 128])"
      ]
     },
     "execution_count": 59,
     "metadata": {},
     "output_type": "execute_result"
    }
   ],
   "source": [
    "state_act_seq_h = gpt(state_act_seq, mask=mask)\n",
    "state_act_seq_h = state_act_seq_h.transpose(0,1) # S,B,... -> B,S,...\n",
    "state_act_seq_h.shape"
   ]
  },
  {
   "cell_type": "code",
   "execution_count": 60,
   "metadata": {},
   "outputs": [
    {
     "data": {
      "text/plain": [
       "torch.Size([14, 32, 256])"
      ]
     },
     "execution_count": 60,
     "metadata": {},
     "output_type": "execute_result"
    }
   ],
   "source": [
    "state_act_seq_h1 = state_act_seq_h.reshape(32,t,-1).transpose(0,1) # B,S,... -> S,B,...\n",
    "state_act_seq_h1.shape"
   ]
  },
  {
   "cell_type": "code",
   "execution_count": 61,
   "metadata": {},
   "outputs": [
    {
     "data": {
      "text/plain": [
       "torch.Size([14, 32, 128])"
      ]
     },
     "execution_count": 61,
     "metadata": {},
     "output_type": "execute_result"
    }
   ],
   "source": [
    "state_preds = state_head(state_act_seq_h1)\n",
    "state_preds.shape"
   ]
  },
  {
   "cell_type": "code",
   "execution_count": 62,
   "metadata": {},
   "outputs": [],
   "source": [
    "criterion = nn.MSELoss()"
   ]
  },
  {
   "cell_type": "code",
   "execution_count": 63,
   "metadata": {},
   "outputs": [],
   "source": [
    "loss = criterion(state_preds, torch.rand(14,32,128))"
   ]
  },
  {
   "cell_type": "code",
   "execution_count": 64,
   "metadata": {},
   "outputs": [],
   "source": [
    "from parameters.pact import PACTBase, PACTStateTokenizer, PACTActionTokenizer, PACTTokenizer, PACTPretrain"
   ]
  },
  {
   "attachments": {},
   "cell_type": "markdown",
   "metadata": {},
   "source": [
    "# state tokenizer"
   ]
  },
  {
   "cell_type": "code",
   "execution_count": 65,
   "metadata": {},
   "outputs": [],
   "source": [
    "args.c_dropout = 0\n",
    "state_tokenizer = PACTStateTokenizer(args)"
   ]
  },
  {
   "cell_type": "code",
   "execution_count": 68,
   "metadata": {},
   "outputs": [
    {
     "data": {
      "text/plain": [
       "(torch.Size([17, 32, 3, 96, 96]), torch.Size([7, 17, 32, 1]))"
      ]
     },
     "execution_count": 68,
     "metadata": {},
     "output_type": "execute_result"
    }
   ],
   "source": [
    "X_sensor = X_sensor.squeeze(-1)\n",
    "X_img.shape, X_sensor.shape"
   ]
  },
  {
   "cell_type": "code",
   "execution_count": 69,
   "metadata": {},
   "outputs": [
    {
     "data": {
      "text/plain": [
       "(torch.Size([544, 128]), torch.Size([17, 32, 256]))"
      ]
     },
     "execution_count": 69,
     "metadata": {},
     "output_type": "execute_result"
    }
   ],
   "source": [
    "state_h = []\n",
    "imgs_h = []\n",
    "state_tokenizer.eval()\n",
    "for i in range(len(X_img)):\n",
    "    state_h.append(state_tokenizer(X_img[i], X_sensor[:,i]))\n",
    "    imgs_h.append(state_tokenizer.cnn(X_img[i]))\n",
    "imgs_h = torch.cat(imgs_h,dim=0)\n",
    "state_h_sep = torch.stack(state_h)\n",
    "imgs_h.shape, state_h_sep.shape"
   ]
  },
  {
   "cell_type": "code",
   "execution_count": 70,
   "metadata": {},
   "outputs": [
    {
     "data": {
      "text/plain": [
       "torch.Size([544, 256])"
      ]
     },
     "execution_count": 70,
     "metadata": {},
     "output_type": "execute_result"
    }
   ],
   "source": [
    "state_h_full = state_tokenizer(X_img.reshape(-1, args.in_channels, *args.img_shape), \n",
    "                               X_sensor.reshape(7,-1,1))\n",
    "state_h_full.shape"
   ]
  },
  {
   "cell_type": "code",
   "execution_count": 71,
   "metadata": {},
   "outputs": [],
   "source": [
    "t,b=X_img.shape[:2]"
   ]
  },
  {
   "cell_type": "code",
   "execution_count": 72,
   "metadata": {},
   "outputs": [
    {
     "data": {
      "text/plain": [
       "(torch.Size([17, 32, 128]), torch.Size([17, 32, 128]))"
      ]
     },
     "execution_count": 72,
     "metadata": {},
     "output_type": "execute_result"
    }
   ],
   "source": [
    "state_h_full.reshape(t,32,-1)[:,:,:128].shape, state_h_sep[:,:,:128].shape"
   ]
  },
  {
   "cell_type": "code",
   "execution_count": 73,
   "metadata": {},
   "outputs": [
    {
     "data": {
      "text/plain": [
       "True"
      ]
     },
     "execution_count": 73,
     "metadata": {},
     "output_type": "execute_result"
    }
   ],
   "source": [
    "torch.allclose(state_h_full.reshape(t,32,-1)[:,:,:128], \n",
    "               state_h_sep[:,:,:128], atol=1e-6)"
   ]
  },
  {
   "cell_type": "code",
   "execution_count": 74,
   "metadata": {},
   "outputs": [
    {
     "data": {
      "text/plain": [
       "True"
      ]
     },
     "execution_count": 74,
     "metadata": {},
     "output_type": "execute_result"
    }
   ],
   "source": [
    "torch.allclose(state_h_full.reshape(t,32,-1)[:,:,128:], \n",
    "               state_h_sep[:,:,128:], atol=1e-6)"
   ]
  },
  {
   "attachments": {},
   "cell_type": "markdown",
   "metadata": {},
   "source": [
    "# action tokenizer"
   ]
  },
  {
   "cell_type": "code",
   "execution_count": 75,
   "metadata": {},
   "outputs": [],
   "source": [
    "action_tokenizer = PACTActionTokenizer(args)"
   ]
  },
  {
   "cell_type": "code",
   "execution_count": 76,
   "metadata": {},
   "outputs": [
    {
     "data": {
      "text/plain": [
       "(torch.Size([14, 32]), torch.Size([3, 14, 32, 1]))"
      ]
     },
     "execution_count": 76,
     "metadata": {},
     "output_type": "execute_result"
    }
   ],
   "source": [
    "actions_r = torch.stack([actions_r_steer, actions_r_throttle, actions_r_brake], dim=0)\n",
    "actions_idx \n",
    "actions_h = action_tokenizer(actions_idx, actions_r)\n",
    "actions_idx.shape, actions_r.shape"
   ]
  },
  {
   "attachments": {},
   "cell_type": "markdown",
   "metadata": {},
   "source": [
    "# state tokenizer"
   ]
  },
  {
   "cell_type": "code",
   "execution_count": 79,
   "metadata": {},
   "outputs": [
    {
     "data": {
      "text/plain": [
       "(torch.Size([17, 32, 256]), torch.Size([14, 32, 256]))"
      ]
     },
     "execution_count": 79,
     "metadata": {},
     "output_type": "execute_result"
    }
   ],
   "source": [
    "state_h_full = state_h_full.reshape(t,b,-1)\n",
    "state_h_full.shape, actions_h.shape"
   ]
  },
  {
   "cell_type": "code",
   "execution_count": 81,
   "metadata": {},
   "outputs": [],
   "source": [
    "state_act_seq = torch.stack([state_h_full[:-3], actions_h], dim=1).reshape(-1, 32, args.h_size*2)"
   ]
  },
  {
   "attachments": {},
   "cell_type": "markdown",
   "metadata": {},
   "source": [
    "# pact tokenizer"
   ]
  },
  {
   "cell_type": "code",
   "execution_count": 86,
   "metadata": {},
   "outputs": [
    {
     "data": {
      "text/plain": [
       "(torch.Size([14, 32, 256]), torch.Size([14, 32, 256]))"
      ]
     },
     "execution_count": 86,
     "metadata": {},
     "output_type": "execute_result"
    }
   ],
   "source": [
    "batch = {'state': {'X_img': X_img[:-3],\n",
    "                    'X_sensor': X_sensor[:,:-3]},\n",
    "         'action': {'X_act_idx': actions_idx,\n",
    "                    'X_act': actions_r}\n",
    "         }\n",
    "tokenizer = PACTTokenizer(args)\n",
    "token_embd_dict = tokenizer(batch)\n",
    "token_embd_dict['state'].shape, token_embd_dict['action'].shape "
   ]
  },
  {
   "attachments": {},
   "cell_type": "markdown",
   "metadata": {},
   "source": [
    "# pact base"
   ]
  },
  {
   "cell_type": "code",
   "execution_count": 87,
   "metadata": {},
   "outputs": [],
   "source": [
    "model = PACTBase(args)"
   ]
  },
  {
   "cell_type": "code",
   "execution_count": 88,
   "metadata": {},
   "outputs": [
    {
     "name": "stdout",
     "output_type": "stream",
     "text": [
      "[torch.Size([14, 32, 3, 96, 96]), torch.Size([7, 14, 32, 1])]\n",
      "[torch.Size([14, 32]), torch.Size([3, 14, 32, 1])]\n"
     ]
    }
   ],
   "source": [
    "print(list(map(lambda x:x.shape, batch['state'].values())))\n",
    "print(list(map(lambda x:x.shape, batch['action'].values())))"
   ]
  },
  {
   "cell_type": "code",
   "execution_count": 89,
   "metadata": {},
   "outputs": [
    {
     "data": {
      "text/plain": [
       "(torch.Size([28, 32, 256]), torch.Size([14, 32, 256]))"
      ]
     },
     "execution_count": 89,
     "metadata": {},
     "output_type": "execute_result"
    }
   ],
   "source": [
    "out_embd, state_targets = model(batch)\n",
    "out_embd.shape, state_targets.shape"
   ]
  },
  {
   "cell_type": "code",
   "execution_count": 90,
   "metadata": {},
   "outputs": [],
   "source": [
    "pact_model = PACTPretrain(args)"
   ]
  },
  {
   "cell_type": "code",
   "execution_count": 91,
   "metadata": {},
   "outputs": [
    {
     "data": {
      "text/plain": [
       "(torch.Size([14, 32, 256]), torch.Size([14, 32, 256]))"
      ]
     },
     "execution_count": 91,
     "metadata": {},
     "output_type": "execute_result"
    }
   ],
   "source": [
    "state_preds, state_embd = pact_model(batch)\n",
    "state_preds.shape, state_embd.shape"
   ]
  },
  {
   "cell_type": "code",
   "execution_count": 92,
   "metadata": {},
   "outputs": [
    {
     "data": {
      "text/plain": [
       "tensor(0.3368, grad_fn=<MseLossBackward0>)"
      ]
     },
     "execution_count": 92,
     "metadata": {},
     "output_type": "execute_result"
    }
   ],
   "source": [
    "criterion(state_preds, state_embd)"
   ]
  },
  {
   "cell_type": "code",
   "execution_count": 102,
   "metadata": {},
   "outputs": [],
   "source": [
    "action_dict = torch.tensor([[-1, 0, 0],\n",
    "               [1, 0, 0], \n",
    "               [0, 1, 0], \n",
    "               [0, 0, 0.8],\n",
    "               [0, 0, 0]], dtype=torch.float32)"
   ]
  },
  {
   "cell_type": "code",
   "execution_count": 119,
   "metadata": {},
   "outputs": [
    {
     "data": {
      "text/plain": [
       "tensor(3)"
      ]
     },
     "execution_count": 119,
     "metadata": {},
     "output_type": "execute_result"
    }
   ],
   "source": [
    "X_act[0,4]"
   ]
  },
  {
   "cell_type": "code",
   "execution_count": 120,
   "metadata": {},
   "outputs": [
    {
     "data": {
      "text/plain": [
       "tensor([0.0000, 0.0000, 0.8000])"
      ]
     },
     "execution_count": 120,
     "metadata": {},
     "output_type": "execute_result"
    }
   ],
   "source": [
    "action_dict[X_act][0,4]"
   ]
  },
  {
   "cell_type": "code",
   "execution_count": 145,
   "metadata": {},
   "outputs": [
    {
     "data": {
      "text/plain": [
       "torch.Size([3, 17, 32, 1])"
      ]
     },
     "execution_count": 145,
     "metadata": {},
     "output_type": "execute_result"
    }
   ],
   "source": [
    "action_dict[X_act].permute(2,0,1).unsqueeze(-1)"
   ]
  },
  {
   "cell_type": "code",
   "execution_count": 99,
   "metadata": {},
   "outputs": [
    {
     "ename": "TypeError",
     "evalue": "unhashable type: 'list'",
     "output_type": "error",
     "traceback": [
      "\u001b[1;31m---------------------------------------------------------------------------\u001b[0m",
      "\u001b[1;31mTypeError\u001b[0m                                 Traceback (most recent call last)",
      "Cell \u001b[1;32mIn [99], line 1\u001b[0m\n\u001b[1;32m----> 1\u001b[0m action_dict[[\u001b[39m0\u001b[39;49m,\u001b[39m1\u001b[39;49m,\u001b[39m2\u001b[39;49m]]\n",
      "\u001b[1;31mTypeError\u001b[0m: unhashable type: 'list'"
     ]
    }
   ],
   "source": [
    "action_dict[[0,1,2]]"
   ]
  },
  {
   "cell_type": "code",
   "execution_count": 135,
   "metadata": {},
   "outputs": [
    {
     "data": {
      "text/plain": [
       "(torch.Size([32, 1]), torch.Size([17, 32]))"
      ]
     },
     "execution_count": 135,
     "metadata": {},
     "output_type": "execute_result"
    }
   ],
   "source": [
    "actions.shape, X_act.shape"
   ]
  },
  {
   "cell_type": "code",
   "execution_count": 137,
   "metadata": {},
   "outputs": [
    {
     "data": {
      "text/plain": [
       "torch.Size([32])"
      ]
     },
     "execution_count": 137,
     "metadata": {},
     "output_type": "execute_result"
    }
   ],
   "source": [
    "X_act[-1].shape"
   ]
  },
  {
   "cell_type": "code",
   "execution_count": 143,
   "metadata": {},
   "outputs": [
    {
     "data": {
      "text/plain": [
       "torch.Size([17, 32])"
      ]
     },
     "execution_count": 143,
     "metadata": {},
     "output_type": "execute_result"
    }
   ],
   "source": [
    "X_act.shape"
   ]
  },
  {
   "cell_type": "code",
   "execution_count": 144,
   "metadata": {},
   "outputs": [
    {
     "data": {
      "text/plain": [
       "torch.Size([14, 32])"
      ]
     },
     "execution_count": 144,
     "metadata": {},
     "output_type": "execute_result"
    }
   ],
   "source": [
    "actions_idx.shape"
   ]
  },
  {
   "cell_type": "code",
   "execution_count": null,
   "metadata": {},
   "outputs": [],
   "source": []
  }
 ],
 "metadata": {
  "kernelspec": {
   "display_name": "drive_env",
   "language": "python",
   "name": "drive_env"
  },
  "language_info": {
   "codemirror_mode": {
    "name": "ipython",
    "version": 3
   },
   "file_extension": ".py",
   "mimetype": "text/x-python",
   "name": "python",
   "nbconvert_exporter": "python",
   "pygments_lexer": "ipython3",
   "version": "3.8.10"
  },
  "orig_nbformat": 4,
  "vscode": {
   "interpreter": {
    "hash": "31f2aee4e71d21fbe5cf8b01ff0e069b9275f58929596ceb00d14d90e3e16cd6"
   }
  }
 },
 "nbformat": 4,
 "nbformat_minor": 2
}
