{
 "cells": [
  {
   "cell_type": "code",
   "execution_count": 79,
   "metadata": {},
   "outputs": [
    {
     "name": "stdout",
     "output_type": "stream",
     "text": [
      "The autoreload extension is already loaded. To reload it, use:\n",
      "  %reload_ext autoreload\n"
     ]
    }
   ],
   "source": [
    "import torch\n",
    "import torch.nn as nn\n",
    "import gym\n",
    "# from torchvision.transforms import Grayscale\n",
    "from parameters import dotdict, MemoryBufferSimple, MemoryBufferSeparated, SensorModel, DriveDQN, model_params\n",
    "from agent_torch_trans import DQN_Agent\n",
    "from parameters.setup import setup_dict_trans\n",
    "import environment as env_wrapper\n",
    "from collections import deque\n",
    "import matplotlib.pyplot as plt    \n",
    "import cv2\n",
    "import random\n",
    "import numpy as np\n",
    "from importlib.metadata import version\n",
    "USE_V2 = '0.21.0' < version('gym') \n",
    "%load_ext autoreload\n",
    "%autoreload 2"
   ]
  },
  {
   "cell_type": "code",
   "execution_count": 80,
   "metadata": {},
   "outputs": [],
   "source": [
    "args = model_params\n",
    "args.device = 'cpu'"
   ]
  },
  {
   "cell_type": "code",
   "execution_count": 81,
   "metadata": {},
   "outputs": [],
   "source": [
    "def compute_steering_speed_gyro_abs(a):\n",
    "    right_steering = a[6, 36:46].mean()/255\n",
    "    left_steering = a[6, 26:36].mean()/255\n",
    "    steering = (right_steering - left_steering + 1.0)/2\n",
    "    \n",
    "    left_gyro = a[6, 46:60].mean()/255\n",
    "    right_gyro = a[6, 60:76].mean()/255\n",
    "    gyro = (right_gyro - left_gyro + 1.0)/2\n",
    "    \n",
    "    speed = a[:, 0][:-2].mean()/255\n",
    "    abs1 = a[:, 6][:-2].mean()/255\n",
    "    abs2 = a[:, 8][:-2].mean()/255\n",
    "    abs3 = a[:, 10][:-2].mean()/255\n",
    "    abs4 = a[:, 12][:-2].mean()/255\n",
    "    \n",
    "    return [steering, speed, gyro, abs1, abs2, abs3, abs4]\n",
    "\n",
    "def transform(s):\n",
    "#     cv2.imshow('original', s)\n",
    "#     cv2.waitKey(1)\n",
    "\n",
    "    # crop_img = img[200:400, 100:300] # Crop from x, y, w, h -> 100, 200, 300, 400\n",
    "    # NOTE: its img[y: y + h, x: x + w] and *not* img[x: x + w, y: y + h]\n",
    "    # bottom_black_bar is the section of the screen with steering, speed, abs and gyro information.\n",
    "    # we crop off the digits on the right as they are illigible, even for ml.\n",
    "    # since color is irrelavent, we grayscale it.\n",
    "    bottom_black_bar = s[84:, 12:]\n",
    "    img = cv2.cvtColor(bottom_black_bar, cv2.COLOR_RGB2GRAY)\n",
    "    bottom_black_bar_bw = cv2.threshold(img, 1, 255, cv2.THRESH_BINARY)[1]\n",
    "    bottom_black_bar_bw = cv2.resize(bottom_black_bar_bw, (84, 12), interpolation = cv2.INTER_NEAREST)\n",
    "    \n",
    "    # upper_field = observation[:84, :96] # this is the section of the screen that contains the track.\n",
    "    upper_field = s[:84, 6:90] # we crop side of screen as they carry little information\n",
    "    img = cv2.cvtColor(upper_field, cv2.COLOR_RGB2GRAY)\n",
    "    upper_field_bw = cv2.threshold(img, 120, 255, cv2.THRESH_BINARY)[1]\n",
    "    upper_field_bw = cv2.resize(upper_field_bw, (10, 10), interpolation = cv2.INTER_NEAREST) # re scaled to 7x7 pixels\n",
    "#     cv2.imshow('video', upper_field_bw)\n",
    "#     cv2.waitKey(1)\n",
    "    upper_field_bw = upper_field_bw.astype('float')/255\n",
    "        \n",
    "    car_field = s[66:78, 43:53]\n",
    "    img = cv2.cvtColor(car_field, cv2.COLOR_RGB2GRAY)\n",
    "    car_field_bw = cv2.threshold(img, 80, 255, cv2.THRESH_BINARY)[1]\n",
    "\n",
    "#     print(car_field_bw[:, 3].mean()/255, car_field_bw[:, 4].mean()/255, car_field_bw[:, 5].mean()/255, car_field_bw[:, 6].mean()/255)\n",
    "    car_field_t = [car_field_bw[:, 3].mean()/255, car_field_bw[:, 4].mean()/255, car_field_bw[:, 5].mean()/255, car_field_bw[:, 6].mean()/255]\n",
    "    \n",
    "#     rotated_image = rotateImage(car_field_bw, 45)\n",
    "#     cv2.imshow('video rotated', rotated_image)\n",
    "#     cv2.waitKey(1)\n",
    "\n",
    "    return bottom_black_bar_bw, upper_field_bw, car_field_t"
   ]
  },
  {
   "cell_type": "code",
   "execution_count": 82,
   "metadata": {},
   "outputs": [],
   "source": [
    "if USE_V2:\n",
    "    env = gym.make('CarRacing-v2', new_step_api=True)\n",
    "else: \n",
    "    env = gym.make('CarRacing-v0')\n",
    "state_img = env.reset(seed=0)"
   ]
  },
  {
   "cell_type": "code",
   "execution_count": 83,
   "metadata": {},
   "outputs": [],
   "source": [
    "# buffer = MemoryBufferSimple(args.n_frames, args.buffer_sz)\n",
    "buffer = MemoryBufferSeparated(args.n_frames, 400, all_steps=True)\n",
    "sampler = torch.utils.data.DataLoader(buffer, batch_size=32, shuffle=True, drop_last=False)"
   ]
  },
  {
   "cell_type": "code",
   "execution_count": 84,
   "metadata": {},
   "outputs": [
    {
     "data": {
      "text/plain": [
       "((96, 96, 3), -0.09999999999999964, False, {})"
      ]
     },
     "execution_count": 84,
     "metadata": {},
     "output_type": "execute_result"
    }
   ],
   "source": [
    "state = {'img': state_img,\n",
    "             'steering': 0,\n",
    "             'speed': 0,\n",
    "             'gyro': 0,\n",
    "             'abs1': 0,\n",
    "             'abs2': 0,\n",
    "             'abs3': 0,\n",
    "             'abs4': 0,\n",
    "             'action_idx': 0}\n",
    "buffer.add_experience(state, 0, 0, False, new_episode=True) # too add new episode\n",
    "state_frame_stack = deque(maxlen=args.n_frames)\n",
    "\n",
    "for i in range(100):\n",
    "    if USE_V2:\n",
    "        state_img, reward, terminated, truncated, info = env.step((0.1,1,0))\n",
    "        done = terminated or truncated \n",
    "    else:\n",
    "        state_img, reward, done, info = env.step((0.1,1,0))\n",
    "    state_img = state_img/255.0 \n",
    "    data_board = state_img[84:, 12:]\n",
    "    steering, speed, gyro, abs1, abs2, abs3, abs4 = compute_steering_speed_gyro_abs(data_board)\n",
    "    action_idx = random.randint(0, args.act_dim-1)\n",
    "    state = {'img': state_img,\n",
    "             'steering': steering,\n",
    "             'speed': speed,\n",
    "             'gyro': gyro,\n",
    "             'abs1': abs1,\n",
    "             'abs2': abs2,\n",
    "             'abs3': abs3,\n",
    "             'abs4': abs4,\n",
    "             'action_idx': action_idx}\n",
    "    state_frame_stack.append(state)\n",
    "    buffer.add_experience(state, action_idx, reward, done)\n",
    "\n",
    "state_img.shape, reward, done, info"
   ]
  },
  {
   "cell_type": "code",
   "execution_count": 85,
   "metadata": {},
   "outputs": [
    {
     "data": {
      "text/plain": [
       "deque([101])"
      ]
     },
     "execution_count": 85,
     "metadata": {},
     "output_type": "execute_result"
    }
   ],
   "source": [
    "buffer.ep_lengths"
   ]
  },
  {
   "cell_type": "code",
   "execution_count": 86,
   "metadata": {},
   "outputs": [],
   "source": [
    "sensor_net = SensorModel(args.in_channels, args.h_size,\n",
    "                         p=args.c_dropout, image_shape=args.img_shape)\n",
    "states, actions, rewards, dones = next(iter(sampler))"
   ]
  },
  {
   "cell_type": "code",
   "execution_count": 87,
   "metadata": {},
   "outputs": [
    {
     "name": "stdout",
     "output_type": "stream",
     "text": [
      "[torch.Size([32, 17, 3, 96, 96]), torch.Size([32, 17, 1]), torch.Size([32, 17, 1]), torch.Size([32, 17, 1]), torch.Size([32, 17, 1]), torch.Size([32, 17, 1]), torch.Size([32, 17, 1]), torch.Size([32, 17, 1]), torch.Size([32, 17])]\n"
     ]
    }
   ],
   "source": [
    "print(list(map(lambda x:x.shape, states)))"
   ]
  },
  {
   "cell_type": "code",
   "execution_count": 88,
   "metadata": {},
   "outputs": [
    {
     "data": {
      "image/png": "[encoded data removed]",
      "text/plain": [
       "<Figure size 2000x2000 with 16 Axes>"
      ]
     },
     "metadata": {},
     "output_type": "display_data"
    }
   ],
   "source": [
    "nrows, ncols = 4,4\n",
    "fig, axs = plt.subplots(nrows=nrows, ncols=ncols, figsize=(20,20))\n",
    "batch_idx = 4\n",
    "for i in range(args.n_frames):\n",
    "    r = i // nrows\n",
    "    c = i % ncols\n",
    "    axs[r][c].imshow(states[0][batch_idx,i,:,:].squeeze(0).permute(1,2,0))"
   ]
  },
  {
   "cell_type": "code",
   "execution_count": 89,
   "metadata": {},
   "outputs": [
    {
     "data": {
      "text/plain": [
       "(torch.Size([17, 32, 3, 96, 96]),\n",
       " torch.Size([7, 17, 32, 1]),\n",
       " torch.Size([17, 32]),\n",
       " torch.Size([32, 16, 1]),\n",
       " torch.Size([32, 16, 1]),\n",
       " torch.Size([32, 16, 1]),\n",
       " torch.Size([32, 3, 96, 96]),\n",
       " torch.Size([7, 32, 1]))"
      ]
     },
     "execution_count": 89,
     "metadata": {},
     "output_type": "execute_result"
    }
   ],
   "source": [
    "frame_idx = 0 \n",
    "X_img = states[0].transpose(0,1).to(args.device)\n",
    "X_sensor = torch.stack(states[1:-1], axis=0).permute(0,2,1,3).to(args.device)\n",
    "X_act = states[-1].transpose(0,1).to(args.device)\n",
    "actions = actions.unsqueeze(-1).to(args.device)\n",
    "rewards = rewards.unsqueeze(-1).to(args.device)\n",
    "dones = dones.unsqueeze(-1).to(args.device)\n",
    "X_img.shape, X_sensor.shape, X_act.shape, actions.shape, rewards.shape, dones.shape, X_img[frame_idx].shape, X_sensor[:,frame_idx].shape"
   ]
  },
  {
   "cell_type": "code",
   "execution_count": 90,
   "metadata": {},
   "outputs": [],
   "source": [
    "sensor_hs = sensor_net(X_img[frame_idx], X_sensor[:,frame_idx])\n",
    "X_img_h, X_steering_h, X_speed_h, X_gyro_h, X_abs1_h, X_abs2_h, X_abs3_h, X_abs4_h = sensor_net(X_img[frame_idx], X_sensor[:,frame_idx])"
   ]
  },
  {
   "cell_type": "code",
   "execution_count": 91,
   "metadata": {},
   "outputs": [
    {
     "data": {
      "text/plain": [
       "(torch.Size([32, 128]),\n",
       " torch.Size([32, 128]),\n",
       " torch.Size([32, 128]),\n",
       " torch.Size([32, 128]),\n",
       " torch.Size([32, 128]),\n",
       " torch.Size([32, 128]),\n",
       " torch.Size([32, 128]),\n",
       " torch.Size([32, 128]))"
      ]
     },
     "execution_count": 91,
     "metadata": {},
     "output_type": "execute_result"
    }
   ],
   "source": [
    "X_img_h.shape, X_steering_h.shape, X_speed_h.shape, X_gyro_h.shape, X_abs1_h.shape, X_abs2_h.shape, X_abs3_h.shape, X_abs4_h.shape"
   ]
  },
  {
   "cell_type": "code",
   "execution_count": 92,
   "metadata": {},
   "outputs": [
    {
     "data": {
      "text/plain": [
       "torch.Size([8, 32, 128])"
      ]
     },
     "execution_count": 92,
     "metadata": {},
     "output_type": "execute_result"
    }
   ],
   "source": [
    "torch.stack(sensor_hs, axis=0).shape"
   ]
  },
  {
   "cell_type": "code",
   "execution_count": 93,
   "metadata": {},
   "outputs": [
    {
     "data": {
      "text/plain": [
       "DriveDQN(\n",
       "  (sensor_net): SensorModel(\n",
       "    (cnn): Nature_Paper_Conv_Dropout_Torch(\n",
       "      (layer1_cnn): Conv2d(3, 32, kernel_size=(8, 8), stride=(4, 4), padding=(2, 2))\n",
       "      (layer2_cnn): Conv2d(32, 64, kernel_size=(4, 4), stride=(2, 2), padding=(1, 1))\n",
       "      (layer3_cnn): Conv2d(64, 64, kernel_size=(3, 3), stride=(1, 1), padding=same)\n",
       "      (layer_4_dense): Linear(in_features=9216, out_features=512, bias=True)\n",
       "      (out_layer): Linear(in_features=512, out_features=128, bias=True)\n",
       "    )\n",
       "    (steering): Linear(in_features=1, out_features=128, bias=True)\n",
       "    (speed): Linear(in_features=1, out_features=128, bias=True)\n",
       "    (gyro): Linear(in_features=1, out_features=128, bias=True)\n",
       "    (abs1): Linear(in_features=1, out_features=128, bias=True)\n",
       "    (abs2): Linear(in_features=1, out_features=128, bias=True)\n",
       "    (abs3): Linear(in_features=1, out_features=128, bias=True)\n",
       "    (abs4): Linear(in_features=1, out_features=128, bias=True)\n",
       "  )\n",
       "  (fusion_net): Transformer(\n",
       "    (encoder): TransformerEncoder(\n",
       "      (layers): ModuleList(\n",
       "        (0): TransformerEncoderLayer(\n",
       "          (self_attn): MultiheadAttention(\n",
       "            (out_proj): NonDynamicallyQuantizableLinear(in_features=128, out_features=128, bias=True)\n",
       "          )\n",
       "          (linear1): Linear(in_features=128, out_features=512, bias=True)\n",
       "          (dropout): Dropout(p=0.1, inplace=False)\n",
       "          (linear2): Linear(in_features=512, out_features=128, bias=True)\n",
       "          (norm1): LayerNorm((128,), eps=1e-05, elementwise_affine=True)\n",
       "          (norm2): LayerNorm((128,), eps=1e-05, elementwise_affine=True)\n",
       "          (dropout1): Dropout(p=0.1, inplace=False)\n",
       "          (dropout2): Dropout(p=0.1, inplace=False)\n",
       "        )\n",
       "        (1): TransformerEncoderLayer(\n",
       "          (self_attn): MultiheadAttention(\n",
       "            (out_proj): NonDynamicallyQuantizableLinear(in_features=128, out_features=128, bias=True)\n",
       "          )\n",
       "          (linear1): Linear(in_features=128, out_features=512, bias=True)\n",
       "          (dropout): Dropout(p=0.1, inplace=False)\n",
       "          (linear2): Linear(in_features=512, out_features=128, bias=True)\n",
       "          (norm1): LayerNorm((128,), eps=1e-05, elementwise_affine=True)\n",
       "          (norm2): LayerNorm((128,), eps=1e-05, elementwise_affine=True)\n",
       "          (dropout1): Dropout(p=0.1, inplace=False)\n",
       "          (dropout2): Dropout(p=0.1, inplace=False)\n",
       "        )\n",
       "      )\n",
       "      (norm): LayerNorm((128,), eps=1e-05, elementwise_affine=True)\n",
       "    )\n",
       "    (decoder): TransformerDecoder(\n",
       "      (layers): ModuleList(\n",
       "        (0): TransformerDecoderLayer(\n",
       "          (self_attn): MultiheadAttention(\n",
       "            (out_proj): NonDynamicallyQuantizableLinear(in_features=128, out_features=128, bias=True)\n",
       "          )\n",
       "          (multihead_attn): MultiheadAttention(\n",
       "            (out_proj): NonDynamicallyQuantizableLinear(in_features=128, out_features=128, bias=True)\n",
       "          )\n",
       "          (linear1): Linear(in_features=128, out_features=512, bias=True)\n",
       "          (dropout): Dropout(p=0.1, inplace=False)\n",
       "          (linear2): Linear(in_features=512, out_features=128, bias=True)\n",
       "          (norm1): LayerNorm((128,), eps=1e-05, elementwise_affine=True)\n",
       "          (norm2): LayerNorm((128,), eps=1e-05, elementwise_affine=True)\n",
       "          (norm3): LayerNorm((128,), eps=1e-05, elementwise_affine=True)\n",
       "          (dropout1): Dropout(p=0.1, inplace=False)\n",
       "          (dropout2): Dropout(p=0.1, inplace=False)\n",
       "          (dropout3): Dropout(p=0.1, inplace=False)\n",
       "        )\n",
       "      )\n",
       "      (norm): LayerNorm((128,), eps=1e-05, elementwise_affine=True)\n",
       "    )\n",
       "  )\n",
       "  (temporal_net): Transformer(\n",
       "    (encoder): TransformerEncoder(\n",
       "      (layers): ModuleList(\n",
       "        (0): TransformerEncoderLayer(\n",
       "          (self_attn): MultiheadAttention(\n",
       "            (out_proj): NonDynamicallyQuantizableLinear(in_features=128, out_features=128, bias=True)\n",
       "          )\n",
       "          (linear1): Linear(in_features=128, out_features=512, bias=True)\n",
       "          (dropout): Dropout(p=0.1, inplace=False)\n",
       "          (linear2): Linear(in_features=512, out_features=128, bias=True)\n",
       "          (norm1): LayerNorm((128,), eps=1e-05, elementwise_affine=True)\n",
       "          (norm2): LayerNorm((128,), eps=1e-05, elementwise_affine=True)\n",
       "          (dropout1): Dropout(p=0.1, inplace=False)\n",
       "          (dropout2): Dropout(p=0.1, inplace=False)\n",
       "        )\n",
       "        (1): TransformerEncoderLayer(\n",
       "          (self_attn): MultiheadAttention(\n",
       "            (out_proj): NonDynamicallyQuantizableLinear(in_features=128, out_features=128, bias=True)\n",
       "          )\n",
       "          (linear1): Linear(in_features=128, out_features=512, bias=True)\n",
       "          (dropout): Dropout(p=0.1, inplace=False)\n",
       "          (linear2): Linear(in_features=512, out_features=128, bias=True)\n",
       "          (norm1): LayerNorm((128,), eps=1e-05, elementwise_affine=True)\n",
       "          (norm2): LayerNorm((128,), eps=1e-05, elementwise_affine=True)\n",
       "          (dropout1): Dropout(p=0.1, inplace=False)\n",
       "          (dropout2): Dropout(p=0.1, inplace=False)\n",
       "        )\n",
       "      )\n",
       "      (norm): LayerNorm((128,), eps=1e-05, elementwise_affine=True)\n",
       "    )\n",
       "    (decoder): TransformerDecoder(\n",
       "      (layers): ModuleList(\n",
       "        (0): TransformerDecoderLayer(\n",
       "          (self_attn): MultiheadAttention(\n",
       "            (out_proj): NonDynamicallyQuantizableLinear(in_features=128, out_features=128, bias=True)\n",
       "          )\n",
       "          (multihead_attn): MultiheadAttention(\n",
       "            (out_proj): NonDynamicallyQuantizableLinear(in_features=128, out_features=128, bias=True)\n",
       "          )\n",
       "          (linear1): Linear(in_features=128, out_features=512, bias=True)\n",
       "          (dropout): Dropout(p=0.1, inplace=False)\n",
       "          (linear2): Linear(in_features=512, out_features=128, bias=True)\n",
       "          (norm1): LayerNorm((128,), eps=1e-05, elementwise_affine=True)\n",
       "          (norm2): LayerNorm((128,), eps=1e-05, elementwise_affine=True)\n",
       "          (norm3): LayerNorm((128,), eps=1e-05, elementwise_affine=True)\n",
       "          (dropout1): Dropout(p=0.1, inplace=False)\n",
       "          (dropout2): Dropout(p=0.1, inplace=False)\n",
       "          (dropout3): Dropout(p=0.1, inplace=False)\n",
       "        )\n",
       "      )\n",
       "      (norm): LayerNorm((128,), eps=1e-05, elementwise_affine=True)\n",
       "    )\n",
       "  )\n",
       "  (positional_encoder): PositionalEncoding(\n",
       "    (dropout): Dropout(p=0.1, inplace=False)\n",
       "  )\n",
       "  (action_emb): Embedding(5, 128)\n",
       "  (out): Linear(in_features=128, out_features=1, bias=True)\n",
       ")"
      ]
     },
     "execution_count": 93,
     "metadata": {},
     "output_type": "execute_result"
    }
   ],
   "source": [
    "drive_net = DriveDQN(args)\n",
    "drive_net.to(args.device)"
   ]
  },
  {
   "cell_type": "code",
   "execution_count": 94,
   "metadata": {},
   "outputs": [
    {
     "data": {
      "text/plain": [
       "torch.Size([32, 5])"
      ]
     },
     "execution_count": 94,
     "metadata": {},
     "output_type": "execute_result"
    }
   ],
   "source": [
    "drive_net(X_img.to(args.device), X_sensor.to(args.device), X_act.to(args.device)).shape"
   ]
  },
  {
   "cell_type": "markdown",
   "metadata": {},
   "source": [
    "# Testing Agent Setup"
   ]
  },
  {
   "cell_type": "code",
   "execution_count": 95,
   "metadata": {},
   "outputs": [],
   "source": [
    "from parameters import DriveDQN_simple_fusion2_decoder\n",
    "setup_dict_trans['agent']['architecture'] = DriveDQN_simple_fusion2_decoder\n",
    "setup_dict_trans['agent']['use_all_timesteps'] = True\n",
    "environment = env_wrapper.CarRacing(**setup_dict_trans['car racing'])\n",
    "control = DQN_Agent(environment=environment, **setup_dict_trans['agent'])"
   ]
  },
  {
   "cell_type": "code",
   "execution_count": 96,
   "metadata": {},
   "outputs": [
    {
     "data": {
      "text/plain": [
       "2"
      ]
     },
     "execution_count": 96,
     "metadata": {},
     "output_type": "execute_result"
    }
   ],
   "source": [
    "control.get_action(state_frame_stack, 0)"
   ]
  },
  {
   "cell_type": "code",
   "execution_count": 97,
   "metadata": {},
   "outputs": [
    {
     "data": {
      "text/plain": [
       "84"
      ]
     },
     "execution_count": 97,
     "metadata": {},
     "output_type": "execute_result"
    }
   ],
   "source": [
    "control.replay_memory = buffer \n",
    "control.replay_memory_sampler = sampler\n",
    "cur_state = (X_img[:-1], X_sensor[:,:-1], X_act[:-1])\n",
    "q_vals = control.dqn(*cur_state, only_last=False)\n",
    "control.replay_memory_sampler.sampler.num_samples"
   ]
  },
  {
   "cell_type": "code",
   "execution_count": 98,
   "metadata": {},
   "outputs": [
    {
     "data": {
      "text/plain": [
       "(torch.Size([32, 16, 1]),\n",
       " torch.Size([32, 16, 1]),\n",
       " torch.Size([32, 16, 1]),\n",
       " torch.Size([16, 32, 5]),\n",
       " torch.Size([32, 1]),\n",
       " torch.Size([32, 5]))"
      ]
     },
     "execution_count": 98,
     "metadata": {},
     "output_type": "execute_result"
    }
   ],
   "source": [
    "actions.shape, rewards.shape, dones.shape, q_vals.shape, actions[:,0].shape, q_vals[0].shape"
   ]
  },
  {
   "cell_type": "code",
   "execution_count": 99,
   "metadata": {},
   "outputs": [
    {
     "data": {
      "text/plain": [
       "tensor(True)"
      ]
     },
     "execution_count": 99,
     "metadata": {},
     "output_type": "execute_result"
    }
   ],
   "source": [
    "(X_act[:-1].transpose(0,1).unsqueeze(-1) == actions).all()"
   ]
  },
  {
   "cell_type": "code",
   "execution_count": 100,
   "metadata": {},
   "outputs": [
    {
     "data": {
      "text/plain": [
       "torch.Size([16, 32, 5])"
      ]
     },
     "execution_count": 100,
     "metadata": {},
     "output_type": "execute_result"
    }
   ],
   "source": [
    "old_comps = []\n",
    "for i in range(args.n_frames):\n",
    "    old_comps.append(rewards[:,i] + 0.99 * ((1-dones[:,i]) * q_vals[i]))\n",
    "old_comps = torch.stack(old_comps, dim=0)\n",
    "old_comps.shape"
   ]
  },
  {
   "cell_type": "code",
   "execution_count": 101,
   "metadata": {},
   "outputs": [
    {
     "data": {
      "text/plain": [
       "(torch.Size([16, 32, 5]), True)"
      ]
     },
     "execution_count": 101,
     "metadata": {},
     "output_type": "execute_result"
    }
   ],
   "source": [
    "new_comps = rewards.transpose(0,1) + 0.99 *((1-dones.transpose(0,1)) * q_vals)\n",
    "new_comps.shape, torch.allclose(new_comps, old_comps)"
   ]
  },
  {
   "cell_type": "code",
   "execution_count": 106,
   "metadata": {},
   "outputs": [
    {
     "data": {
      "text/plain": [
       "torch.Size([16, 32, 1])"
      ]
     },
     "execution_count": 106,
     "metadata": {},
     "output_type": "execute_result"
    }
   ],
   "source": [
    "actions.transpose_(0,1).shape"
   ]
  },
  {
   "cell_type": "code",
   "execution_count": 108,
   "metadata": {},
   "outputs": [
    {
     "data": {
      "text/plain": [
       "torch.Size([16, 32, 1])"
      ]
     },
     "execution_count": 108,
     "metadata": {},
     "output_type": "execute_result"
    }
   ],
   "source": [
    "targets = new_comps.gather(2, actions)\n",
    "targets.shape"
   ]
  },
  {
   "cell_type": "code",
   "execution_count": 111,
   "metadata": {},
   "outputs": [
    {
     "data": {
      "text/plain": [
       "(torch.Size([32, 1]), torch.Size([32, 1]))"
      ]
     },
     "execution_count": 111,
     "metadata": {},
     "output_type": "execute_result"
    }
   ],
   "source": [
    "actions[-1].shape, targets[-1].shape"
   ]
  },
  {
   "cell_type": "code",
   "execution_count": 112,
   "metadata": {},
   "outputs": [
    {
     "data": {
      "text/plain": [
       "torch.Size([16, 32, 1])"
      ]
     },
     "execution_count": 112,
     "metadata": {},
     "output_type": "execute_result"
    }
   ],
   "source": [
    "alt_targets = []\n",
    "for i in range(args.n_frames):\n",
    "    alt_targets.append(new_comps[i].gather(1, actions[i]))\n",
    "alt_targets = torch.stack(alt_targets, dim=0)\n",
    "alt_targets.shape"
   ]
  },
  {
   "cell_type": "code",
   "execution_count": 114,
   "metadata": {},
   "outputs": [
    {
     "data": {
      "text/plain": [
       "tensor(True)"
      ]
     },
     "execution_count": 114,
     "metadata": {},
     "output_type": "execute_result"
    }
   ],
   "source": [
    "(targets == alt_targets).all()"
   ]
  },
  {
   "cell_type": "code",
   "execution_count": 118,
   "metadata": {},
   "outputs": [
    {
     "name": "stdout",
     "output_type": "stream",
     "text": [
      "all steps loss: 0.307064026594162\n"
     ]
    }
   ],
   "source": [
    "control.experience_replay_all_steps()"
   ]
  },
  {
   "cell_type": "code",
   "execution_count": 20,
   "metadata": {},
   "outputs": [
    {
     "data": {
      "text/plain": [
       "'DriveDQN'"
      ]
     },
     "execution_count": 20,
     "metadata": {},
     "output_type": "execute_result"
    }
   ],
   "source": [
    "DriveDQN.__name__"
   ]
  },
  {
   "cell_type": "code",
   "execution_count": 21,
   "metadata": {},
   "outputs": [
    {
     "data": {
      "text/plain": [
       "5058157"
      ]
     },
     "execution_count": 21,
     "metadata": {},
     "output_type": "execute_result"
    }
   ],
   "source": [
    "sum((p.numel() for p in control.dqn.parameters()))"
   ]
  },
  {
   "cell_type": "code",
   "execution_count": 22,
   "metadata": {},
   "outputs": [
    {
     "data": {
      "text/plain": [
       "4862496"
      ]
     },
     "execution_count": 22,
     "metadata": {},
     "output_type": "execute_result"
    }
   ],
   "source": [
    "sum((p.numel() for p in control.dqn.sensor_net.parameters()))"
   ]
  },
  {
   "cell_type": "code",
   "execution_count": 23,
   "metadata": {},
   "outputs": [
    {
     "data": {
      "text/plain": [
       "4860704"
      ]
     },
     "execution_count": 23,
     "metadata": {},
     "output_type": "execute_result"
    }
   ],
   "source": [
    "sum((p.numel() for p in control.dqn.sensor_net.cnn.parameters()))"
   ]
  },
  {
   "cell_type": "code",
   "execution_count": 18,
   "metadata": {},
   "outputs": [],
   "source": [
    "from parameters.drive_net import DriveDQN_simple_fusion2_decoder as driveArc"
   ]
  },
  {
   "cell_type": "code",
   "execution_count": 19,
   "metadata": {},
   "outputs": [],
   "source": [
    "drive_net = driveArc(args)"
   ]
  },
  {
   "cell_type": "code",
   "execution_count": 20,
   "metadata": {},
   "outputs": [
    {
     "data": {
      "text/plain": [
       "torch.Size([32, 5])"
      ]
     },
     "execution_count": 20,
     "metadata": {},
     "output_type": "execute_result"
    }
   ],
   "source": [
    "out = drive_net(X_img.to(args.device)[:-1], X_sensor.to(args.device)[:,:-1], X_act[:-1].to(args.device))\n",
    "out.shape"
   ]
  },
  {
   "cell_type": "code",
   "execution_count": 61,
   "metadata": {},
   "outputs": [
    {
     "data": {
      "text/plain": [
       "5208613"
      ]
     },
     "execution_count": 61,
     "metadata": {},
     "output_type": "execute_result"
    }
   ],
   "source": [
    "sum((p.numel() for p in drive_net.parameters()))"
   ]
  },
  {
   "cell_type": "code",
   "execution_count": 115,
   "metadata": {},
   "outputs": [
    {
     "data": {
      "text/plain": [
       "(torch.Size([1, 5, 3, 96, 96]),\n",
       " torch.Size([1]),\n",
       " torch.Size([1]),\n",
       " torch.Size([1]))"
      ]
     },
     "execution_count": 115,
     "metadata": {},
     "output_type": "execute_result"
    }
   ],
   "source": [
    "states[0].shape, actions.shape, rewards.shape, dones.shape"
   ]
  },
  {
   "cell_type": "code",
   "execution_count": 144,
   "metadata": {},
   "outputs": [
    {
     "data": {
      "text/plain": [
       "(torch.Size([5, 2, 3, 96, 96]),\n",
       " torch.Size([5, 2]),\n",
       " torch.Size([2, 1]),\n",
       " torch.Size([2, 1]),\n",
       " torch.Size([2, 1]),\n",
       " torch.Size([4, 2, 3, 96, 96]),\n",
       " torch.Size([4, 2, 3, 96, 96]))"
      ]
     },
     "execution_count": 144,
     "metadata": {},
     "output_type": "execute_result"
    }
   ],
   "source": [
    "X_img = states[0].transpose(0,1).to(args.device)\n",
    "X_sensor = torch.stack(states[1:-1], axis=0).permute(0,2,1).unsqueeze(-1).to(args.device)\n",
    "X_act = states[-1].transpose(0,1).to(args.device)\n",
    "cur_state = (X_img[:-1], X_sensor[:,:-1], X_act[:-1])\n",
    "next_state = (X_img[1:], X_sensor[:, 1:], X_act[1:])\n",
    "actions = actions.unsqueeze(-1).to(args.device)\n",
    "rewards = rewards.unsqueeze(1).to(args.device)\n",
    "dones = dones.unsqueeze(1).to(args.device)\n",
    "X_img.shape, X_act.shape, actions.shape, rewards.shape, dones.shape, cur_state[0].shape, next_state[0].shape"
   ]
  },
  {
   "cell_type": "code",
   "execution_count": 154,
   "metadata": {},
   "outputs": [
    {
     "data": {
      "text/plain": [
       "<matplotlib.image.AxesImage at 0x1f554d61cd0>"
      ]
     },
     "execution_count": 154,
     "metadata": {},
     "output_type": "execute_result"
    },
    {
     "data": {
      "image/png": "[encoded data removed]",
      "text/plain": [
       "<Figure size 640x480 with 1 Axes>"
      ]
     },
     "metadata": {},
     "output_type": "display_data"
    }
   ],
   "source": [
    "plt.imshow(X_img[0,0].permute(1,2,0).numpy())"
   ]
  },
  {
   "cell_type": "code",
   "execution_count": 156,
   "metadata": {},
   "outputs": [
    {
     "data": {
      "text/plain": [
       "torch.Size([2, 5, 96, 96])"
      ]
     },
     "execution_count": 156,
     "metadata": {},
     "output_type": "execute_result"
    }
   ],
   "source": [
    "grey_scaler = Grayscale(num_output_channels=1)\n",
    "X = grey_scaler(X_img).squeeze(2).transpose(0,1)\n",
    "X.shape"
   ]
  },
  {
   "cell_type": "code",
   "execution_count": 167,
   "metadata": {},
   "outputs": [
    {
     "data": {
      "text/plain": [
       "torch.Size([96, 96, 3])"
      ]
     },
     "execution_count": 167,
     "metadata": {},
     "output_type": "execute_result"
    }
   ],
   "source": [
    "X[0,:3].permute(1,2,0).shape"
   ]
  },
  {
   "cell_type": "code",
   "execution_count": 174,
   "metadata": {},
   "outputs": [
    {
     "data": {
      "text/plain": [
       "<matplotlib.image.AxesImage at 0x1f551783130>"
      ]
     },
     "execution_count": 174,
     "metadata": {},
     "output_type": "execute_result"
    },
    {
     "data": {
      "image/png": "[encoded data removed]",
      "text/plain": [
       "<Figure size 640x480 with 1 Axes>"
      ]
     },
     "metadata": {},
     "output_type": "display_data"
    }
   ],
   "source": [
    "plt.imshow(X[0,0:3].permute(1,2,0).numpy())"
   ]
  },
  {
   "cell_type": "code",
   "execution_count": 187,
   "metadata": {},
   "outputs": [
    {
     "data": {
      "text/plain": [
       "<matplotlib.image.AxesImage at 0x1f5537f0760>"
      ]
     },
     "execution_count": 187,
     "metadata": {},
     "output_type": "execute_result"
    },
    {
     "data": {
      "image/png": "[encoded data removed]",
      "text/plain": [
       "<Figure size 640x480 with 1 Axes>"
      ]
     },
     "metadata": {},
     "output_type": "display_data"
    }
   ],
   "source": [
    "plt.imshow(X[0,1].numpy(), cmap=\"gray\")"
   ]
  },
  {
   "cell_type": "code",
   "execution_count": 178,
   "metadata": {},
   "outputs": [
    {
     "data": {
      "text/plain": [
       "['magma',\n",
       " 'inferno',\n",
       " 'plasma',\n",
       " 'viridis',\n",
       " 'cividis',\n",
       " 'twilight',\n",
       " 'twilight_shifted',\n",
       " 'turbo',\n",
       " 'Blues',\n",
       " 'BrBG',\n",
       " 'BuGn',\n",
       " 'BuPu',\n",
       " 'CMRmap',\n",
       " 'GnBu',\n",
       " 'Greens',\n",
       " 'Greys',\n",
       " 'OrRd',\n",
       " 'Oranges',\n",
       " 'PRGn',\n",
       " 'PiYG',\n",
       " 'PuBu',\n",
       " 'PuBuGn',\n",
       " 'PuOr',\n",
       " 'PuRd',\n",
       " 'Purples',\n",
       " 'RdBu',\n",
       " 'RdGy',\n",
       " 'RdPu',\n",
       " 'RdYlBu',\n",
       " 'RdYlGn',\n",
       " 'Reds',\n",
       " 'Spectral',\n",
       " 'Wistia',\n",
       " 'YlGn',\n",
       " 'YlGnBu',\n",
       " 'YlOrBr',\n",
       " 'YlOrRd',\n",
       " 'afmhot',\n",
       " 'autumn',\n",
       " 'binary',\n",
       " 'bone',\n",
       " 'brg',\n",
       " 'bwr',\n",
       " 'cool',\n",
       " 'coolwarm',\n",
       " 'copper',\n",
       " 'cubehelix',\n",
       " 'flag',\n",
       " 'gist_earth',\n",
       " 'gist_gray',\n",
       " 'gist_heat',\n",
       " 'gist_ncar',\n",
       " 'gist_rainbow',\n",
       " 'gist_stern',\n",
       " 'gist_yarg',\n",
       " 'gnuplot',\n",
       " 'gnuplot2',\n",
       " 'gray',\n",
       " 'hot',\n",
       " 'hsv',\n",
       " 'jet',\n",
       " 'nipy_spectral',\n",
       " 'ocean',\n",
       " 'pink',\n",
       " 'prism',\n",
       " 'rainbow',\n",
       " 'seismic',\n",
       " 'spring',\n",
       " 'summer',\n",
       " 'terrain',\n",
       " 'winter',\n",
       " 'Accent',\n",
       " 'Dark2',\n",
       " 'Paired',\n",
       " 'Pastel1',\n",
       " 'Pastel2',\n",
       " 'Set1',\n",
       " 'Set2',\n",
       " 'Set3',\n",
       " 'tab10',\n",
       " 'tab20',\n",
       " 'tab20b',\n",
       " 'tab20c',\n",
       " 'magma_r',\n",
       " 'inferno_r',\n",
       " 'plasma_r',\n",
       " 'viridis_r',\n",
       " 'cividis_r',\n",
       " 'twilight_r',\n",
       " 'twilight_shifted_r',\n",
       " 'turbo_r',\n",
       " 'Blues_r',\n",
       " 'BrBG_r',\n",
       " 'BuGn_r',\n",
       " 'BuPu_r',\n",
       " 'CMRmap_r',\n",
       " 'GnBu_r',\n",
       " 'Greens_r',\n",
       " 'Greys_r',\n",
       " 'OrRd_r',\n",
       " 'Oranges_r',\n",
       " 'PRGn_r',\n",
       " 'PiYG_r',\n",
       " 'PuBu_r',\n",
       " 'PuBuGn_r',\n",
       " 'PuOr_r',\n",
       " 'PuRd_r',\n",
       " 'Purples_r',\n",
       " 'RdBu_r',\n",
       " 'RdGy_r',\n",
       " 'RdPu_r',\n",
       " 'RdYlBu_r',\n",
       " 'RdYlGn_r',\n",
       " 'Reds_r',\n",
       " 'Spectral_r',\n",
       " 'Wistia_r',\n",
       " 'YlGn_r',\n",
       " 'YlGnBu_r',\n",
       " 'YlOrBr_r',\n",
       " 'YlOrRd_r',\n",
       " 'afmhot_r',\n",
       " 'autumn_r',\n",
       " 'binary_r',\n",
       " 'bone_r',\n",
       " 'brg_r',\n",
       " 'bwr_r',\n",
       " 'cool_r',\n",
       " 'coolwarm_r',\n",
       " 'copper_r',\n",
       " 'cubehelix_r',\n",
       " 'flag_r',\n",
       " 'gist_earth_r',\n",
       " 'gist_gray_r',\n",
       " 'gist_heat_r',\n",
       " 'gist_ncar_r',\n",
       " 'gist_rainbow_r',\n",
       " 'gist_stern_r',\n",
       " 'gist_yarg_r',\n",
       " 'gnuplot_r',\n",
       " 'gnuplot2_r',\n",
       " 'gray_r',\n",
       " 'hot_r',\n",
       " 'hsv_r',\n",
       " 'jet_r',\n",
       " 'nipy_spectral_r',\n",
       " 'ocean_r',\n",
       " 'pink_r',\n",
       " 'prism_r',\n",
       " 'rainbow_r',\n",
       " 'seismic_r',\n",
       " 'spring_r',\n",
       " 'summer_r',\n",
       " 'terrain_r',\n",
       " 'winter_r',\n",
       " 'Accent_r',\n",
       " 'Dark2_r',\n",
       " 'Paired_r',\n",
       " 'Pastel1_r',\n",
       " 'Pastel2_r',\n",
       " 'Set1_r',\n",
       " 'Set2_r',\n",
       " 'Set3_r',\n",
       " 'tab10_r',\n",
       " 'tab20_r',\n",
       " 'tab20b_r',\n",
       " 'tab20c_r']"
      ]
     },
     "execution_count": 178,
     "metadata": {},
     "output_type": "execute_result"
    }
   ],
   "source": [
    "plt.colormaps()"
   ]
  },
  {
   "cell_type": "code",
   "execution_count": 145,
   "metadata": {},
   "outputs": [
    {
     "data": {
      "text/plain": [
       "tensor([[2],\n",
       "        [4]])"
      ]
     },
     "execution_count": 145,
     "metadata": {},
     "output_type": "execute_result"
    }
   ],
   "source": [
    "greedy_actions = drive_net(*next_state).argmax(dim=1, keepdims=True)\n",
    "greedy_actions"
   ]
  },
  {
   "cell_type": "code",
   "execution_count": 152,
   "metadata": {},
   "outputs": [
    {
     "data": {
      "text/plain": [
       "torch.Size([2, 5])"
      ]
     },
     "execution_count": 152,
     "metadata": {},
     "output_type": "execute_result"
    }
   ],
   "source": [
    "q_value_targets = rewards + 0.99 * ((1 - dones) * drive_net(*next_state))\n",
    "q_value_targets.shape"
   ]
  },
  {
   "cell_type": "code",
   "execution_count": null,
   "metadata": {},
   "outputs": [],
   "source": [
    "q_value_targets = q_value_targets.gather(1, greedy_actions)"
   ]
  },
  {
   "cell_type": "code",
   "execution_count": 148,
   "metadata": {},
   "outputs": [
    {
     "data": {
      "text/plain": [
       "tensor([[-0.0926],\n",
       "        [-0.0852]], grad_fn=<GatherBackward0>)"
      ]
     },
     "execution_count": 148,
     "metadata": {},
     "output_type": "execute_result"
    }
   ],
   "source": [
    "q_value_targets"
   ]
  },
  {
   "attachments": {},
   "cell_type": "markdown",
   "metadata": {},
   "source": [
    "# Transformer decoder "
   ]
  },
  {
   "cell_type": "code",
   "execution_count": 14,
   "metadata": {},
   "outputs": [],
   "source": [
    "def _generate_square_subsequent_mask(self, sz):\n",
    "    mask = (torch.triu(torch.ones(sz, sz)) == 1).transpose(0, 1)\n",
    "    mask = mask.float()\n",
    "    mask = mask.masked_fill(mask == 0, float('-inf')).masked_fill(mask == 1, float(0.0))\n",
    "    return mask\n",
    "decoder_layer = nn.TransformerDecoderLayer(d_model=args.h_size, nhead=args.n_head, \n",
    "                                           dim_feedforward=4*args.h_size, dropout=args.t_dropout, norm_first=args.norm_first)\n",
    "decoder = nn.TransformerDecoder(decoder_layer, num_layers=2)"
   ]
  },
  {
   "cell_type": "code",
   "execution_count": 37,
   "metadata": {},
   "outputs": [
    {
     "data": {
      "text/plain": [
       "torch.Size([10, 32, 128])"
      ]
     },
     "execution_count": 37,
     "metadata": {},
     "output_type": "execute_result"
    }
   ],
   "source": [
    "mask = _generate_square_subsequent_mask(None, 10)\n",
    "decoder(tgt=torch.rand(10,32,128), memory=torch.rand(10,32,128), \n",
    "        tgt_mask=mask, memory_mask=mask).shape"
   ]
  },
  {
   "cell_type": "code",
   "execution_count": 38,
   "metadata": {},
   "outputs": [
    {
     "data": {
      "text/plain": [
       "torch.Size([10, 10])"
      ]
     },
     "execution_count": 38,
     "metadata": {},
     "output_type": "execute_result"
    }
   ],
   "source": [
    "mask.shape"
   ]
  },
  {
   "cell_type": "code",
   "execution_count": null,
   "metadata": {},
   "outputs": [],
   "source": []
  }
 ],
 "metadata": {
  "kernelspec": {
   "display_name": "drive_env",
   "language": "python",
   "name": "drive_env"
  },
  "language_info": {
   "codemirror_mode": {
    "name": "ipython",
    "version": 3
   },
   "file_extension": ".py",
   "mimetype": "text/x-python",
   "name": "python",
   "nbconvert_exporter": "python",
   "pygments_lexer": "ipython3",
   "version": "3.8.10"
  },
  "orig_nbformat": 4,
  "vscode": {
   "interpreter": {
    "hash": "31f2aee4e71d21fbe5cf8b01ff0e069b9275f58929596ceb00d14d90e3e16cd6"
   }
  }
 },
 "nbformat": 4,
 "nbformat_minor": 2
}
