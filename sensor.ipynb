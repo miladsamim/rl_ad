{
 "cells": [
  {
   "cell_type": "code",
   "execution_count": 2,
   "metadata": {},
   "outputs": [],
   "source": [
    "import carla \n",
    "import math \n",
    "import random \n",
    "import time \n",
    "import numpy as np\n",
    "import cv2\n",
    "\n",
    "# Connect the client and set up bp library and spawn points\n",
    "client = carla.Client('localhost', 2000) \n",
    "world = client.get_world()\n",
    "bp_lib = world.get_blueprint_library()  \n",
    "spawn_points = world.get_map().get_spawn_points() "
   ]
  },
  {
   "cell_type": "code",
   "execution_count": 3,
   "metadata": {},
   "outputs": [],
   "source": [
    "for v in world.get_actors().filter('*vehicle*'):\n",
    "    v.destroy()\n",
    "for s in world.get_actors().filter('*sensor*'):\n",
    "    s.destroy()"
   ]
  },
  {
   "cell_type": "code",
   "execution_count": 4,
   "metadata": {},
   "outputs": [],
   "source": [
    "# Spawn ego vehicle\n",
    "vehicle_bp = bp_lib.find('vehicle.tesla.model3') \n",
    "vehicle = world.try_spawn_actor(vehicle_bp, random.choice(spawn_points))\n",
    "\n",
    "# Move spectator behind vehicle to view\n",
    "spectator = world.get_spectator() \n",
    "transform = carla.Transform(vehicle.get_transform().transform(carla.Location(x=-4,z=2.5)),vehicle.get_transform().rotation) \n",
    "spectator.set_transform(transform)"
   ]
  },
  {
   "cell_type": "code",
   "execution_count": 5,
   "metadata": {},
   "outputs": [],
   "source": [
    "import importlib\n",
    "import sys\n",
    "from car.sensors import CarEquipment, base_sensor_specification, model3_base_offsets, base_sensor_types, base_callbacks, top_offsets, top_callbacks, over_offsets, over_callbacks"
   ]
  },
  {
   "cell_type": "code",
   "execution_count": 50,
   "metadata": {},
   "outputs": [],
   "source": [
    " #import the module here, so that it can be reloaded.\n",
    "importlib.reload(sys.modules['car.sensors'])\n",
    "from car.sensors import CarEquipment, base_sensor_specification, model3_base_offsets, base_sensor_types, base_callbacks, top_offsets, top_callbacks, over_offsets, over_callbacks"
   ]
  },
  {
   "cell_type": "code",
   "execution_count": 37,
   "metadata": {},
   "outputs": [],
   "source": [
    "equipment = CarEquipment(world, vehicle)"
   ]
  },
  {
   "cell_type": "code",
   "execution_count": 8,
   "metadata": {},
   "outputs": [],
   "source": [
    "equipment.build_sensors('base', base_sensor_types[1], base_sensor_specification, model3_base_offsets)"
   ]
  },
  {
   "cell_type": "code",
   "execution_count": 9,
   "metadata": {},
   "outputs": [
    {
     "data": {
      "text/plain": [
       "False"
      ]
     },
     "execution_count": 9,
     "metadata": {},
     "output_type": "execute_result"
    }
   ],
   "source": [
    "equipment.base_sensors['front'].is_listening"
   ]
  },
  {
   "cell_type": "code",
   "execution_count": 18,
   "metadata": {},
   "outputs": [],
   "source": [
    "equipment.toggle_sensors('base', 'stop', equipment.rgb_callback, base_callbacks)"
   ]
  },
  {
   "cell_type": "code",
   "execution_count": 11,
   "metadata": {},
   "outputs": [],
   "source": [
    "img = equipment.sensor_data['rear']"
   ]
  },
  {
   "cell_type": "code",
   "execution_count": 12,
   "metadata": {},
   "outputs": [],
   "source": [
    "def layout_func(sensor_data):\n",
    "    row1 = np.concatenate([sensor_data['front_left'], sensor_data['front'], sensor_data['front_right']], axis=1)\n",
    "    row2 = np.concatenate([sensor_data['side_left'], sensor_data['rear'], sensor_data['side_right']], axis=1)\n",
    "    tiled = np.concatenate([row1,row2], axis=0)\n",
    "    return tiled"
   ]
  },
  {
   "cell_type": "code",
   "execution_count": 13,
   "metadata": {},
   "outputs": [],
   "source": [
    "equipment.display_sensors('Base RGB', layout_func, equipment.sensor_data)"
   ]
  },
  {
   "cell_type": "code",
   "execution_count": 27,
   "metadata": {},
   "outputs": [],
   "source": [
    "equipment.build_sensors('top', base_sensor_types[1], base_sensor_specification, top_offsets)"
   ]
  },
  {
   "cell_type": "code",
   "execution_count": 28,
   "metadata": {},
   "outputs": [],
   "source": [
    "equipment.toggle_sensors('top', 'start', equipment.rgb_callback, top_callbacks)"
   ]
  },
  {
   "cell_type": "code",
   "execution_count": 29,
   "metadata": {},
   "outputs": [],
   "source": [
    "def top_layout(sensor_data):\n",
    "    return sensor_data['hd1']"
   ]
  },
  {
   "cell_type": "code",
   "execution_count": 30,
   "metadata": {},
   "outputs": [],
   "source": [
    "equipment.display_sensors('Top RGB', top_layout, equipment.sensor_data)"
   ]
  },
  {
   "cell_type": "code",
   "execution_count": 132,
   "metadata": {},
   "outputs": [],
   "source": [
    "vehicle.apply_control(carla.VehicleControl(throttle=.5, steer=-0.0, brake=0.1, \n",
    "                                           hand_brake=False, reverse=False, \n",
    "                                           manual_gear_shift=False, gear=0))"
   ]
  },
  {
   "cell_type": "code",
   "execution_count": 13,
   "metadata": {},
   "outputs": [],
   "source": [
    "x = np.random.rand(100,32,32,3)"
   ]
  },
  {
   "cell_type": "code",
   "execution_count": 16,
   "metadata": {},
   "outputs": [
    {
     "data": {
      "text/plain": [
       "(100, 32, 32, 3)"
      ]
     },
     "execution_count": 16,
     "metadata": {},
     "output_type": "execute_result"
    }
   ],
   "source": [
    "np.roll(x,2,-1).shape"
   ]
  },
  {
   "cell_type": "code",
   "execution_count": 59,
   "metadata": {},
   "outputs": [],
   "source": [
    "equipment.build_sensors('base', base_sensor_types[0], base_sensor_specification, over_offsets)"
   ]
  },
  {
   "cell_type": "code",
   "execution_count": 60,
   "metadata": {},
   "outputs": [],
   "source": [
    "equipment.toggle_sensors('base', 'start', equipment.sem_callback, over_callbacks)"
   ]
  },
  {
   "cell_type": "code",
   "execution_count": 51,
   "metadata": {},
   "outputs": [],
   "source": [
    "def layout_func(sensor_data):\n",
    "    row1 = np.concatenate([sensor_data['o1'], sensor_data['o2'], sensor_data['o3']], axis=1)\n",
    "    row2 = np.concatenate([sensor_data['o4'], sensor_data['o5'], sensor_data['o6']], axis=1)\n",
    "    tiled = np.concatenate([row1,row2], axis=0)\n",
    "    return tiled"
   ]
  },
  {
   "cell_type": "code",
   "execution_count": 62,
   "metadata": {},
   "outputs": [],
   "source": [
    "equipment.display_sensors('Over Semantic', layout_func, equipment.sensor_data)"
   ]
  },
  {
   "cell_type": "code",
   "execution_count": 57,
   "metadata": {},
   "outputs": [
    {
     "data": {
      "text/plain": [
       "dict_keys(['1', 'o5', 'o4', 'o3', 'o2', 'o1', 'o6'])"
      ]
     },
     "execution_count": 57,
     "metadata": {},
     "output_type": "execute_result"
    }
   ],
   "source": [
    "equipment.sensor_data.keys()"
   ]
  },
  {
   "cell_type": "code",
   "execution_count": null,
   "metadata": {},
   "outputs": [],
   "source": []
  }
 ],
 "metadata": {
  "kernelspec": {
   "display_name": "Python 3.8.10 ('env': venv)",
   "language": "python",
   "name": "python3"
  },
  "language_info": {
   "codemirror_mode": {
    "name": "ipython",
    "version": 3
   },
   "file_extension": ".py",
   "mimetype": "text/x-python",
   "name": "python",
   "nbconvert_exporter": "python",
   "pygments_lexer": "ipython3",
   "version": "3.8.10"
  },
  "orig_nbformat": 4,
  "vscode": {
   "interpreter": {
    "hash": "858d797b4424d461f280710e58ba81b582f926725b11914e0594eb6193e097af"
   }
  }
 },
 "nbformat": 4,
 "nbformat_minor": 2
}
